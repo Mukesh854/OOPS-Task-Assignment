{
 "cells": [
  {
   "cell_type": "markdown",
   "id": "5ffd1ce7-8ac2-4457-b9a1-f893c8909ebb",
   "metadata": {},
   "source": [
    "# OOPS Task Assignments "
   ]
  },
  {
   "cell_type": "markdown",
   "id": "20700dad-a671-4b05-9236-139086356485",
   "metadata": {},
   "source": [
    "Q1, Create a vehicle class with an init method having instance variables as name_of_vehicle, max_speed\n",
    "and average_of_vehicle."
   ]
  },
  {
   "cell_type": "code",
   "execution_count": 1,
   "id": "3699cdc5-f470-4bcd-b6b1-23832f6e2e48",
   "metadata": {},
   "outputs": [
    {
     "name": "stdout",
     "output_type": "stream",
     "text": [
      "Name of vehicle aston martin\n",
      "Max_speed 394\n",
      "Average_of_vehicle 8\n"
     ]
    }
   ],
   "source": [
    "class vehicle:\n",
    "    def __init__(self , name_of_vehicle , max_speed , average ):\n",
    "        self.name_of_vehicle = name_of_vehicle\n",
    "        self.max_speed = max_speed\n",
    "        self.average = average\n",
    "        \n",
    " \n",
    "car = vehicle(\"aston martin\" , 394 , 8)\n",
    "print(\"Name of vehicle\" , car.name_of_vehicle)\n",
    "print(\"Max_speed\" , car.max_speed)\n",
    "print(\"Average_of_vehicle\" , car.average)\n"
   ]
  },
  {
   "cell_type": "markdown",
   "id": "412f8fd6-1abe-40f7-ba4e-20c95bbf4a09",
   "metadata": {},
   "source": [
    "Q2. Create a child class car from the vehicle class created in Que 1, which will inherit the vehicle class.\n",
    "Create a method named seating_capacity which takes capacity as an argument and returns the name of\n",
    "the vehicle and its seating capacity."
   ]
  },
  {
   "cell_type": "code",
   "execution_count": 6,
   "id": "fc2a1f73-0f5d-40e3-a516-7adf28eb581c",
   "metadata": {},
   "outputs": [
    {
     "name": "stdout",
     "output_type": "stream",
     "text": [
      "This Honda has a seating capacity of 7 people \n"
     ]
    }
   ],
   "source": [
    "class Car(vehicle):\n",
    "    def __int__(self , name_of_vehicle , max_speed , average):\n",
    "        super().__init__(name_of_vehicle , max_speed , average)\n",
    "        \n",
    "    def seating_capacity(self , capacity):\n",
    "        return f\"This {self.name_of_vehicle} has a seating capacity of {capacity} people \"\n",
    "\n",
    "car = Car(\"Honda\" , 150 , 15)\n",
    "\n",
    "print(car.seating_capacity(7))"
   ]
  },
  {
   "cell_type": "markdown",
   "id": "5abaf2f3-816a-4cde-80bd-5a99846ef144",
   "metadata": {},
   "source": [
    "Q3. What is multiple inheritance? Write a python code to demonstrate multiple inheritance."
   ]
  },
  {
   "cell_type": "markdown",
   "id": "1b95077d-3b4e-40b7-a8cd-f2c8b8a119d0",
   "metadata": {},
   "source": [
    "\n",
    "Multiple inheritance in Python allows a class to inherit from more than one parent class. This means that a subclass can inherit attributes and methods from multiple parent classes."
   ]
  },
  {
   "cell_type": "code",
   "execution_count": 7,
   "id": "19517586-ba8c-4060-9047-b22067d8b526",
   "metadata": {},
   "outputs": [
    {
     "name": "stdout",
     "output_type": "stream",
     "text": [
      "Method A from class A\n",
      "Method B from class B\n",
      "Method C from class C\n"
     ]
    }
   ],
   "source": [
    "class A:\n",
    "    def method_a(self):\n",
    "        print(\"Method A from class A\")\n",
    "\n",
    "class B:\n",
    "    def method_b(self):\n",
    "        print(\"Method B from class B\")\n",
    "\n",
    "class C(A, B):  # Multiple inheritance\n",
    "    def method_c(self):\n",
    "        print(\"Method C from class C\")\n",
    "\n",
    "\n",
    "obj = C()\n",
    "\n",
    "\n",
    "obj.method_a()\n",
    "\n",
    "\n",
    "obj.method_b()\n",
    "\n",
    "\n",
    "obj.method_c()\n"
   ]
  },
  {
   "cell_type": "markdown",
   "id": "70fc332e-a92d-48ee-8e88-f07fbb53fb8f",
   "metadata": {},
   "source": [
    "Q4. What are getter and setter in python? Create a class and create a getter and a setter method in this\n",
    "class."
   ]
  },
  {
   "cell_type": "markdown",
   "id": "1b4c6f2d-22c3-4326-b0d2-b60e4e9a0fc5",
   "metadata": {},
   "source": [
    "\n",
    "Getters and setters in Python are methods used to access and modify the attributes of a class. Getters retrieve the values of attributes, while setters modify them. They enable controlled access to class attributes and are often used to implement encapsulation."
   ]
  },
  {
   "cell_type": "code",
   "execution_count": 8,
   "id": "2a961196-1883-434d-8799-59e410c8850c",
   "metadata": {},
   "outputs": [
    {
     "name": "stdout",
     "output_type": "stream",
     "text": [
      "10\n"
     ]
    }
   ],
   "source": [
    "class MyClass:\n",
    "    def __init__(self):\n",
    "        self._my_attribute = None\n",
    "\n",
    "    def get_attribute(self):\n",
    "        return self._my_attribute\n",
    "\n",
    "    def set_attribute(self, value):\n",
    "        self._my_attribute = value\n",
    "\n",
    "# Example usage:\n",
    "obj = MyClass()\n",
    "obj.set_attribute(10)\n",
    "print(obj.get_attribute())  \n"
   ]
  },
  {
   "cell_type": "markdown",
   "id": "fb0e67ed-fc09-4cc6-b147-88dfe5ecc280",
   "metadata": {},
   "source": [
    "Q5.What is method overriding in python? Write a python code to demonstrate method overriding."
   ]
  },
  {
   "cell_type": "markdown",
   "id": "17583bff-b3ea-4793-9470-d5e63b182f53",
   "metadata": {},
   "source": [
    "Method overriding in Python occurs when a subclass provides a specific implementation of a method that is already defined in its superclass. This allows the subclass to customize or extend the behavior of the inherited method."
   ]
  },
  {
   "cell_type": "code",
   "execution_count": 9,
   "id": "be588a03-465d-4790-90c0-5593a2b002d2",
   "metadata": {},
   "outputs": [
    {
     "name": "stdout",
     "output_type": "stream",
     "text": [
      "Dog barks\n"
     ]
    }
   ],
   "source": [
    "class Animal:\n",
    "    def speak(self):\n",
    "        print(\"Animal speaks generic sound\")\n",
    "\n",
    "class Dog(Animal):\n",
    "    def speak(self):\n",
    "        print(\"Dog barks\")\n",
    "\n",
    "# Create an instance\n",
    "dog = Dog()\n",
    "\n",
    "# Call the overridden method\n",
    "dog.speak()  # Output: Dog barks\n"
   ]
  },
  {
   "cell_type": "code",
   "execution_count": null,
   "id": "765431a3-a7d0-4c54-b827-f95a80d41207",
   "metadata": {},
   "outputs": [],
   "source": []
  }
 ],
 "metadata": {
  "kernelspec": {
   "display_name": "Python 3 (ipykernel)",
   "language": "python",
   "name": "python3"
  },
  "language_info": {
   "codemirror_mode": {
    "name": "ipython",
    "version": 3
   },
   "file_extension": ".py",
   "mimetype": "text/x-python",
   "name": "python",
   "nbconvert_exporter": "python",
   "pygments_lexer": "ipython3",
   "version": "3.10.8"
  }
 },
 "nbformat": 4,
 "nbformat_minor": 5
}
